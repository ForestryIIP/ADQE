{
 "cells": [
  {
   "cell_type": "code",
   "execution_count": 2,
   "id": "92b600e0-69d5-4577-92cc-c0d0feb7df96",
   "metadata": {},
   "outputs": [],
   "source": [
    "import os\n",
    "os.chdir(\"/root/autodl-tmp/method/baseline/\")"
   ]
  },
  {
   "cell_type": "code",
   "execution_count": 12,
   "id": "ed7917b4-c619-4cf1-a246-d0d1fd8debd1",
   "metadata": {},
   "outputs": [
    {
     "name": "stdout",
     "output_type": "stream",
     "text": [
      "0.7792289635892472 0.6764562595229876 0.3524044243949249 0.7499239505954496\n",
      "0.7572253446018915 0.6589014812360234 0.40339567330107984 0.7352213253592726\n",
      "0.7516850755828268 0.672935430625223 0.420149443941929 0.745446804987933\n",
      "0.7333241665032963 0.6525023532093127 0.4529762332397693 0.7276719747684922\n",
      "0.7312429360912103 0.659837274430761 0.46990330767394595 0.7331048822755111\n",
      "0.7284965664521301 0.6608644626754946 0.468824497032008 0.7336020515657576\n"
     ]
    },
    {
     "ename": "FileNotFoundError",
     "evalue": "[Errno 2] No such file or directory: '/root/autodl-tmp/method/temp/CUB200-size/quick-augmented-6/averQ1_augmented-6.pkl'",
     "output_type": "error",
     "traceback": [
      "\u001b[0;31m---------------------------------------------------------------------------\u001b[0m",
      "\u001b[0;31mFileNotFoundError\u001b[0m                         Traceback (most recent call last)",
      "\u001b[0;32m/tmp/ipykernel_6087/740079323.py\u001b[0m in \u001b[0;36m<module>\u001b[0;34m\u001b[0m\n\u001b[1;32m      5\u001b[0m     \u001b[0mout_file_path\u001b[0m \u001b[0;34m=\u001b[0m \u001b[0;34m\"CUB200-size/quick-augmented-\"\u001b[0m\u001b[0;34m+\u001b[0m\u001b[0mstr\u001b[0m\u001b[0;34m(\u001b[0m\u001b[0mi\u001b[0m\u001b[0;34m)\u001b[0m\u001b[0;34m\u001b[0m\u001b[0;34m\u001b[0m\u001b[0m\n\u001b[1;32m      6\u001b[0m     \u001b[0mdata_name\u001b[0m \u001b[0;34m=\u001b[0m \u001b[0;34m\"augmented-\"\u001b[0m\u001b[0;34m+\u001b[0m\u001b[0mstr\u001b[0m\u001b[0;34m(\u001b[0m\u001b[0mi\u001b[0m\u001b[0;34m)\u001b[0m\u001b[0;34m\u001b[0m\u001b[0;34m\u001b[0m\u001b[0m\n\u001b[0;32m----> 7\u001b[0;31m     \u001b[0maverq1\u001b[0m \u001b[0;34m=\u001b[0m \u001b[0mload_var\u001b[0m\u001b[0;34m(\u001b[0m\u001b[0mout_file_path\u001b[0m\u001b[0;34m,\u001b[0m\u001b[0;34m\"averQ1_\"\u001b[0m\u001b[0;34m+\u001b[0m\u001b[0mdata_name\u001b[0m\u001b[0;34m+\u001b[0m\u001b[0;34m\".pkl\"\u001b[0m\u001b[0;34m)\u001b[0m\u001b[0;34m\u001b[0m\u001b[0;34m\u001b[0m\u001b[0m\n\u001b[0m\u001b[1;32m      8\u001b[0m     \u001b[0maverq6\u001b[0m \u001b[0;34m=\u001b[0m \u001b[0mload_var\u001b[0m\u001b[0;34m(\u001b[0m\u001b[0mout_file_path\u001b[0m\u001b[0;34m,\u001b[0m\u001b[0;34m\"averQ6_\"\u001b[0m\u001b[0;34m+\u001b[0m\u001b[0mdata_name\u001b[0m\u001b[0;34m+\u001b[0m\u001b[0;34m\".pkl\"\u001b[0m\u001b[0;34m)\u001b[0m\u001b[0;34m\u001b[0m\u001b[0;34m\u001b[0m\u001b[0m\n\u001b[1;32m      9\u001b[0m     \u001b[0mminmaxq1\u001b[0m \u001b[0;34m=\u001b[0m \u001b[0mload_var\u001b[0m\u001b[0;34m(\u001b[0m\u001b[0mout_file_path\u001b[0m\u001b[0;34m,\u001b[0m\u001b[0;34m\"minmaxQ1_\"\u001b[0m\u001b[0;34m+\u001b[0m\u001b[0mdata_name\u001b[0m\u001b[0;34m+\u001b[0m\u001b[0;34m\".pkl\"\u001b[0m\u001b[0;34m)\u001b[0m\u001b[0;34m\u001b[0m\u001b[0;34m\u001b[0m\u001b[0m\n",
      "\u001b[0;32m~/autodl-tmp/method/baseline/utils.py\u001b[0m in \u001b[0;36mload_var\u001b[0;34m(filepath, filename)\u001b[0m\n\u001b[1;32m     12\u001b[0m \u001b[0;34m\u001b[0m\u001b[0m\n\u001b[1;32m     13\u001b[0m \u001b[0;32mdef\u001b[0m \u001b[0mload_var\u001b[0m\u001b[0;34m(\u001b[0m\u001b[0mfilepath\u001b[0m\u001b[0;34m,\u001b[0m\u001b[0mfilename\u001b[0m\u001b[0;34m)\u001b[0m\u001b[0;34m:\u001b[0m\u001b[0;34m\u001b[0m\u001b[0;34m\u001b[0m\u001b[0m\n\u001b[0;32m---> 14\u001b[0;31m     \u001b[0mf\u001b[0m\u001b[0;34m=\u001b[0m\u001b[0mopen\u001b[0m\u001b[0;34m(\u001b[0m\u001b[0;34m\"/root/autodl-tmp/method/temp/\"\u001b[0m\u001b[0;34m+\u001b[0m\u001b[0mfilepath\u001b[0m\u001b[0;34m+\u001b[0m\u001b[0;34m\"/\"\u001b[0m\u001b[0;34m+\u001b[0m\u001b[0mfilename\u001b[0m\u001b[0;34m,\u001b[0m\u001b[0;34m'rb'\u001b[0m\u001b[0;34m)\u001b[0m\u001b[0;34m\u001b[0m\u001b[0;34m\u001b[0m\u001b[0m\n\u001b[0m\u001b[1;32m     15\u001b[0m     \u001b[0mr\u001b[0m\u001b[0;34m=\u001b[0m\u001b[0mpickle\u001b[0m\u001b[0;34m.\u001b[0m\u001b[0mload\u001b[0m\u001b[0;34m(\u001b[0m\u001b[0mf\u001b[0m\u001b[0;34m)\u001b[0m\u001b[0;34m\u001b[0m\u001b[0;34m\u001b[0m\u001b[0m\n\u001b[1;32m     16\u001b[0m     \u001b[0mf\u001b[0m\u001b[0;34m.\u001b[0m\u001b[0mclose\u001b[0m\u001b[0;34m(\u001b[0m\u001b[0;34m)\u001b[0m\u001b[0;34m\u001b[0m\u001b[0;34m\u001b[0m\u001b[0m\n",
      "\u001b[0;31mFileNotFoundError\u001b[0m: [Errno 2] No such file or directory: '/root/autodl-tmp/method/temp/CUB200-size/quick-augmented-6/averQ1_augmented-6.pkl'"
     ]
    }
   ],
   "source": [
    "from utils import save_var,load_var\n",
    "import numpy as np\n",
    "\n",
    "for i in range(0,8):\n",
    "    out_file_path = \"CUB200-size/quick-augmented-\"+str(i)\n",
    "    data_name = \"augmented-\"+str(i)\n",
    "    averq1 = load_var(out_file_path,\"averQ1_\"+data_name+\".pkl\")\n",
    "    averq6 = load_var(out_file_path,\"averQ6_\"+data_name+\".pkl\")\n",
    "    minmaxq1 = load_var(out_file_path,\"minmaxQ1_\"+data_name+\".pkl\")\n",
    "    minmaxq6 = load_var(out_file_path,\"minmaxQ6_\"+data_name+\".pkl\")\n",
    "    averq1_score = np.mean([i[1] for i in averq1])\n",
    "    averq6_score = np.mean(averq6[1])\n",
    "    minmaxq1_score = 1- np.mean([i[1] for i in minmaxq1])\n",
    "    minmaxq6_score = np.mean(minmaxq6[1])\n",
    "    print(averq1_score,averq6_score,minmaxq1_score,minmaxq6_score)"
   ]
  },
  {
   "cell_type": "code",
   "execution_count": 11,
   "id": "06706101-04c1-4858-be42-ea8d4b671a97",
   "metadata": {},
   "outputs": [
    {
     "name": "stdout",
     "output_type": "stream",
     "text": [
      "0.8423937961722072 0.7996673271268051 0.2540148850506734 0.8739206400337437\n"
     ]
    }
   ],
   "source": [
    "out_file_path = \"origin\"\n",
    "data_name = \"CUB200\"\n",
    "averq1 = load_var(out_file_path,\"averQ1_\"+data_name+\".pkl\")\n",
    "averq6 = load_var(out_file_path,\"averQ6_\"+data_name+\".pkl\")\n",
    "minmaxq1 = load_var(out_file_path,\"minmaxQ1_\"+data_name+\".pkl\")\n",
    "minmaxq6 = load_var(out_file_path,\"minmaxQ6_\"+data_name+\".pkl\")\n",
    "averq1_score = np.mean([i[1] for i in averq1])\n",
    "averq6_score = np.mean(averq6[1])\n",
    "minmaxq1_score = 1 - np.mean([i[1] for i in minmaxq1])\n",
    "minmaxq6_score = np.mean(minmaxq6[1])\n",
    "print(averq1_score,averq6_score,minmaxq1_score,minmaxq6_score)"
   ]
  },
  {
   "cell_type": "code",
   "execution_count": 2,
   "id": "414b4253-875f-42e0-a86a-115ae89dc62d",
   "metadata": {},
   "outputs": [
    {
     "name": "stdout",
     "output_type": "stream",
     "text": [
      "aver_diversity.py  finch.py\t\t__pycache__\tutils.py\n",
      "cifar_all\t   minmax_diversity.py\tUntitled.ipynb\n"
     ]
    }
   ],
   "source": [
    "# !tar -xvf /root/autodl-tmp/cifar_all.tar.gz\n",
    "!ls"
   ]
  },
  {
   "cell_type": "code",
   "execution_count": null,
   "id": "39e54f08-390a-4d10-bb7a-da0e35b70e96",
   "metadata": {},
   "outputs": [],
   "source": []
  }
 ],
 "metadata": {
  "kernelspec": {
   "display_name": "Python 3 (ipykernel)",
   "language": "python",
   "name": "python3"
  },
  "language_info": {
   "codemirror_mode": {
    "name": "ipython",
    "version": 3
   },
   "file_extension": ".py",
   "mimetype": "text/x-python",
   "name": "python",
   "nbconvert_exporter": "python",
   "pygments_lexer": "ipython3",
   "version": "3.8.10"
  }
 },
 "nbformat": 4,
 "nbformat_minor": 5
}
