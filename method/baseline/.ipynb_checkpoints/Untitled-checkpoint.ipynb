{
 "cells": [
  {
   "cell_type": "code",
   "execution_count": 2,
   "id": "92b600e0-69d5-4577-92cc-c0d0feb7df96",
   "metadata": {},
   "outputs": [],
   "source": [
    "import os\n",
    "os.chdir(\"/root/autodl-tmp/method/baseline/\")"
   ]
  },
  {
   "cell_type": "code",
   "execution_count": 10,
   "id": "ed7917b4-c619-4cf1-a246-d0d1fd8debd1",
   "metadata": {},
   "outputs": [
    {
     "name": "stdout",
     "output_type": "stream",
     "text": [
      "0.7799999284709338 0.6741385429998297 0.36351767884932007 0.748686847333936\n",
      "0.6951748779738949 0.6358067248132049 0.5677176137153412 0.7070575334498838\n",
      "0.7417168530704195 0.661297746220571 0.4415261691462239 0.7347405173954082\n",
      "0.749003662747064 0.6675012735116368 0.4054006724794943 0.7371116436101353\n",
      "0.7379648428460057 0.6601427088419933 0.4096466415031217 0.7289962687558194\n",
      "0.7314797260868285 0.6569061580742138 0.4180615389666703 0.72648449102773\n",
      "0.6734385674644676 0.592727845593977 0.4992974445753 0.6649722704927367\n"
     ]
    },
    {
     "ename": "FileNotFoundError",
     "evalue": "[Errno 2] No such file or directory: '/root/autodl-tmp/method/temp/CUB200/quick-augmented-7/averQ1_augmented-7.pkl'",
     "output_type": "error",
     "traceback": [
      "\u001b[0;31m---------------------------------------------------------------------------\u001b[0m",
      "\u001b[0;31mFileNotFoundError\u001b[0m                         Traceback (most recent call last)",
      "\u001b[0;32m/tmp/ipykernel_6087/3736958331.py\u001b[0m in \u001b[0;36m<module>\u001b[0;34m\u001b[0m\n\u001b[1;32m      5\u001b[0m     \u001b[0mout_file_path\u001b[0m \u001b[0;34m=\u001b[0m \u001b[0;34m\"CUB200/quick-augmented-\"\u001b[0m\u001b[0;34m+\u001b[0m\u001b[0mstr\u001b[0m\u001b[0;34m(\u001b[0m\u001b[0mi\u001b[0m\u001b[0;34m)\u001b[0m\u001b[0;34m\u001b[0m\u001b[0;34m\u001b[0m\u001b[0m\n\u001b[1;32m      6\u001b[0m     \u001b[0mdata_name\u001b[0m \u001b[0;34m=\u001b[0m \u001b[0;34m\"augmented-\"\u001b[0m\u001b[0;34m+\u001b[0m\u001b[0mstr\u001b[0m\u001b[0;34m(\u001b[0m\u001b[0mi\u001b[0m\u001b[0;34m)\u001b[0m\u001b[0;34m\u001b[0m\u001b[0;34m\u001b[0m\u001b[0m\n\u001b[0;32m----> 7\u001b[0;31m     \u001b[0maverq1\u001b[0m \u001b[0;34m=\u001b[0m \u001b[0mload_var\u001b[0m\u001b[0;34m(\u001b[0m\u001b[0mout_file_path\u001b[0m\u001b[0;34m,\u001b[0m\u001b[0;34m\"averQ1_\"\u001b[0m\u001b[0;34m+\u001b[0m\u001b[0mdata_name\u001b[0m\u001b[0;34m+\u001b[0m\u001b[0;34m\".pkl\"\u001b[0m\u001b[0;34m)\u001b[0m\u001b[0;34m\u001b[0m\u001b[0;34m\u001b[0m\u001b[0m\n\u001b[0m\u001b[1;32m      8\u001b[0m     \u001b[0maverq6\u001b[0m \u001b[0;34m=\u001b[0m \u001b[0mload_var\u001b[0m\u001b[0;34m(\u001b[0m\u001b[0mout_file_path\u001b[0m\u001b[0;34m,\u001b[0m\u001b[0;34m\"averQ6_\"\u001b[0m\u001b[0;34m+\u001b[0m\u001b[0mdata_name\u001b[0m\u001b[0;34m+\u001b[0m\u001b[0;34m\".pkl\"\u001b[0m\u001b[0;34m)\u001b[0m\u001b[0;34m\u001b[0m\u001b[0;34m\u001b[0m\u001b[0m\n\u001b[1;32m      9\u001b[0m     \u001b[0mminmaxq1\u001b[0m \u001b[0;34m=\u001b[0m \u001b[0mload_var\u001b[0m\u001b[0;34m(\u001b[0m\u001b[0mout_file_path\u001b[0m\u001b[0;34m,\u001b[0m\u001b[0;34m\"minmaxQ1_\"\u001b[0m\u001b[0;34m+\u001b[0m\u001b[0mdata_name\u001b[0m\u001b[0;34m+\u001b[0m\u001b[0;34m\".pkl\"\u001b[0m\u001b[0;34m)\u001b[0m\u001b[0;34m\u001b[0m\u001b[0;34m\u001b[0m\u001b[0m\n",
      "\u001b[0;32m~/autodl-tmp/method/baseline/utils.py\u001b[0m in \u001b[0;36mload_var\u001b[0;34m(filepath, filename)\u001b[0m\n\u001b[1;32m     12\u001b[0m \u001b[0;34m\u001b[0m\u001b[0m\n\u001b[1;32m     13\u001b[0m \u001b[0;32mdef\u001b[0m \u001b[0mload_var\u001b[0m\u001b[0;34m(\u001b[0m\u001b[0mfilepath\u001b[0m\u001b[0;34m,\u001b[0m\u001b[0mfilename\u001b[0m\u001b[0;34m)\u001b[0m\u001b[0;34m:\u001b[0m\u001b[0;34m\u001b[0m\u001b[0;34m\u001b[0m\u001b[0m\n\u001b[0;32m---> 14\u001b[0;31m     \u001b[0mf\u001b[0m\u001b[0;34m=\u001b[0m\u001b[0mopen\u001b[0m\u001b[0;34m(\u001b[0m\u001b[0;34m\"/root/autodl-tmp/method/temp/\"\u001b[0m\u001b[0;34m+\u001b[0m\u001b[0mfilepath\u001b[0m\u001b[0;34m+\u001b[0m\u001b[0;34m\"/\"\u001b[0m\u001b[0;34m+\u001b[0m\u001b[0mfilename\u001b[0m\u001b[0;34m,\u001b[0m\u001b[0;34m'rb'\u001b[0m\u001b[0;34m)\u001b[0m\u001b[0;34m\u001b[0m\u001b[0;34m\u001b[0m\u001b[0m\n\u001b[0m\u001b[1;32m     15\u001b[0m     \u001b[0mr\u001b[0m\u001b[0;34m=\u001b[0m\u001b[0mpickle\u001b[0m\u001b[0;34m.\u001b[0m\u001b[0mload\u001b[0m\u001b[0;34m(\u001b[0m\u001b[0mf\u001b[0m\u001b[0;34m)\u001b[0m\u001b[0;34m\u001b[0m\u001b[0;34m\u001b[0m\u001b[0m\n\u001b[1;32m     16\u001b[0m     \u001b[0mf\u001b[0m\u001b[0;34m.\u001b[0m\u001b[0mclose\u001b[0m\u001b[0;34m(\u001b[0m\u001b[0;34m)\u001b[0m\u001b[0;34m\u001b[0m\u001b[0;34m\u001b[0m\u001b[0m\n",
      "\u001b[0;31mFileNotFoundError\u001b[0m: [Errno 2] No such file or directory: '/root/autodl-tmp/method/temp/CUB200/quick-augmented-7/averQ1_augmented-7.pkl'"
     ]
    }
   ],
   "source": [
    "from utils import save_var,load_var\n",
    "import numpy as np\n",
    "\n",
    "for i in range(0,8):\n",
    "    out_file_path = \"CUB200/quick-augmented-\"+str(i)\n",
    "    data_name = \"augmented-\"+str(i)\n",
    "    averq1 = load_var(out_file_path,\"averQ1_\"+data_name+\".pkl\")\n",
    "    averq6 = load_var(out_file_path,\"averQ6_\"+data_name+\".pkl\")\n",
    "    minmaxq1 = load_var(out_file_path,\"minmaxQ1_\"+data_name+\".pkl\")\n",
    "    minmaxq6 = load_var(out_file_path,\"minmaxQ6_\"+data_name+\".pkl\")\n",
    "    averq1_score = np.mean([i[1] for i in averq1])\n",
    "    averq6_score = np.mean(averq6[1])\n",
    "    minmaxq1_score = 1- np.mean([i[1] for i in minmaxq1])\n",
    "    minmaxq6_score = np.mean(minmaxq6[1])\n",
    "    print(averq1_score,averq6_score,minmaxq1_score,minmaxq6_score)"
   ]
  },
  {
   "cell_type": "code",
   "execution_count": 7,
   "id": "06706101-04c1-4858-be42-ea8d4b671a97",
   "metadata": {},
   "outputs": [
    {
     "name": "stdout",
     "output_type": "stream",
     "text": [
      "0.15760620382779278 0.7996673271268051 0.7459851149493266 0.8739206400337437\n"
     ]
    }
   ],
   "source": [
    "out_file_path = \"origin\"\n",
    "data_name = \"CUB200\"\n",
    "averq1 = load_var(out_file_path,\"averQ1_\"+data_name+\".pkl\")\n",
    "averq6 = load_var(out_file_path,\"averQ6_\"+data_name+\".pkl\")\n",
    "minmaxq1 = load_var(out_file_path,\"minmaxQ1_\"+data_name+\".pkl\")\n",
    "minmaxq6 = load_var(out_file_path,\"minmaxQ6_\"+data_name+\".pkl\")\n",
    "averq1_score = np.mean([i[1] for i in averq1])\n",
    "averq6_score = np.mean(averq6[1])\n",
    "minmaxq1_score = 1 - np.mean([i[1] for i in minmaxq1])\n",
    "minmaxq6_score = np.mean(minmaxq6[1])\n",
    "print(averq1_score,averq6_score,minmaxq1_score,minmaxq6_score)"
   ]
  },
  {
   "cell_type": "code",
   "execution_count": null,
   "id": "414b4253-875f-42e0-a86a-115ae89dc62d",
   "metadata": {},
   "outputs": [],
   "source": []
  }
 ],
 "metadata": {
  "kernelspec": {
   "display_name": "Python 3 (ipykernel)",
   "language": "python",
   "name": "python3"
  },
  "language_info": {
   "codemirror_mode": {
    "name": "ipython",
    "version": 3
   },
   "file_extension": ".py",
   "mimetype": "text/x-python",
   "name": "python",
   "nbconvert_exporter": "python",
   "pygments_lexer": "ipython3",
   "version": "3.8.10"
  }
 },
 "nbformat": 4,
 "nbformat_minor": 5
}
