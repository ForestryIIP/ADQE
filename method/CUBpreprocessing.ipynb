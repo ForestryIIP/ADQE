{
 "cells": [
  {
   "cell_type": "code",
   "execution_count": null,
   "id": "a02f55b5-a74f-4082-b1a2-43db3651c07a",
   "metadata": {},
   "outputs": [],
   "source": [
    "\n",
    "\"\"\"\n",
    "读取images.txt文件,获得每个图像的标签\n",
    "读取train_test_split.txt文件,获取每个图像的train, test标签.其中1为训练,0为测试.\n",
    "\"\"\"\n",
    " \n",
    "import os\n",
    "import shutil\n",
    "import numpy as np\n",
    "import time\n",
    " \n",
    "time_start = time.time()\n",
    "\n",
    "cpath = \"/root/autodl-tmp/CUB_200_2011/\"\n",
    "\n",
    "# 文件路径\n",
    "path_images = cpath + 'images.txt'\n",
    "path_split = cpath + 'train_test_split.txt'\n",
    "trian_save_path = cpath + 'dataset/train/'\n",
    "test_save_path = cpath + 'dataset/test/'\n",
    " \n",
    "# 读取images.txt文件\n",
    "images = []\n",
    "with open(path_images,'r') as f:\n",
    "    for line in f:\n",
    "        images.append(list(line.strip('\\n').split(',')))\n",
    " \n",
    "# 读取train_test_split.txt文件\n",
    "split = []\n",
    "with open(path_split, 'r') as f_:\n",
    "    for line in f_:\n",
    "        split.append(list(line.strip('\\n').split(',')))\n",
    " \n",
    "# 划分\n",
    "num = len(images) # 图像的总个数\n",
    "for k in range(num):\n",
    "    file_name = images[k][0].split(' ')[1].split('/')[0]\n",
    "    aaa = int(split[k][0][-1])\n",
    "    if int(split[k][0][-1]) == 1: # 划分到训练集\n",
    "        #判断文件夹是否存在\n",
    "        if os.path.isdir(trian_save_path + file_name):\n",
    "            shutil.copy(cpath + 'images/' + images[k][0].split(' ')[1], trian_save_path+file_name+'/'+images[k][0].split(' ')[1].split('/')[1])\n",
    "        else:\n",
    "            os.makedirs(trian_save_path + file_name)\n",
    "            shutil.copy(cpath + 'images/' + images[k][0].split(' ')[1], trian_save_path + file_name + '/' + images[k][0].split(' ')[1].split('/')[1])\n",
    "        print('%s处理完毕!' % images[k][0].split(' ')[1].split('/')[1])\n",
    "    else:\n",
    "         #判断文件夹是否存在\n",
    "         if os.path.isdir(test_save_path + file_name):\n",
    "             aaaa = cpath + 'images/' + images[k][0].split(' ')[1]\n",
    "             bbbb = test_save_path+file_name+'/'+images[k][0].split(' ')[1]\n",
    "             shutil.copy(cpath + 'images/' + images[k][0].split(' ')[1], test_save_path+file_name+'/'+images[k][0].split(' ')[1].split('/')[1])\n",
    "         else:\n",
    "             os.makedirs(test_save_path + file_name)\n",
    "             shutil.copy(cpath + 'images/' + images[k][0].split(' ')[1], test_save_path + file_name + '/' + images[k][0].split(' ')[1].split('/')[1])\n",
    "         print('%s处理完毕!' % images[k][0].split(' ')[1].split('/')[1])\n",
    " \n",
    "time_end = time.time()\n",
    "print('CUB200训练集和测试集划分完毕, 耗时%s!!' % (time_end - time_start))"
   ]
  },
  {
   "cell_type": "code",
   "execution_count": 2,
   "id": "74b80f2a-c689-4331-90df-3bbe923cf9f8",
   "metadata": {},
   "outputs": [
    {
     "name": "stdout",
     "output_type": "stream",
     "text": [
      "shell-init: error retrieving current directory: getcwd: cannot access parent directories: No such file or directory\n"
     ]
    }
   ],
   "source": [
    "!rm -r /root/autodl-tmp/method/baseline"
   ]
  },
  {
   "cell_type": "code",
   "execution_count": null,
   "id": "75b688b5-67b4-40fd-ba5e-0ec6225b12e4",
   "metadata": {},
   "outputs": [],
   "source": []
  }
 ],
 "metadata": {
  "kernelspec": {
   "display_name": "Python 3 (ipykernel)",
   "language": "python",
   "name": "python3"
  },
  "language_info": {
   "codemirror_mode": {
    "name": "ipython",
    "version": 3
   },
   "file_extension": ".py",
   "mimetype": "text/x-python",
   "name": "python",
   "nbconvert_exporter": "python",
   "pygments_lexer": "ipython3",
   "version": "3.8.10"
  }
 },
 "nbformat": 4,
 "nbformat_minor": 5
}
